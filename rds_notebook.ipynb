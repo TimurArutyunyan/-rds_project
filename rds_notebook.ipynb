{
 "cells": [
  {
   "cell_type": "code",
   "execution_count": 77,
   "id": "7aa73c29",
   "metadata": {
    "scrolled": true
   },
   "outputs": [
    {
     "data": {
      "text/plain": [
       "school                  0\n",
       "sex                     0\n",
       "age                     0\n",
       "address                17\n",
       "famsize                27\n",
       "Pstatus                45\n",
       "Medu                    3\n",
       "Fedu                   24\n",
       "Mjob                   19\n",
       "Fjob                   36\n",
       "reason                 17\n",
       "guardian               31\n",
       "traveltime             28\n",
       "studytime               7\n",
       "failures               22\n",
       "schoolsup               9\n",
       "famsup                 39\n",
       "paid                   40\n",
       "activities             14\n",
       "nursery                16\n",
       "studytime, granular     7\n",
       "higher                 20\n",
       "internet               34\n",
       "romantic               31\n",
       "famrel                 27\n",
       "freetime               11\n",
       "goout                   8\n",
       "health                 15\n",
       "absences               12\n",
       "score                   6\n",
       "dtype: int64"
      ]
     },
     "execution_count": 77,
     "metadata": {},
     "output_type": "execute_result"
    }
   ],
   "source": [
    "import pandas as pd\n",
    "df = pd.read_csv('/Users/timurarutunan/Downloads/stud_math.csv')\n",
    "df.isna().sum()"
   ]
  },
  {
   "cell_type": "code",
   "execution_count": 78,
   "id": "34ee0659",
   "metadata": {},
   "outputs": [
    {
     "data": {
      "text/html": [
       "<div>\n",
       "<style scoped>\n",
       "    .dataframe tbody tr th:only-of-type {\n",
       "        vertical-align: middle;\n",
       "    }\n",
       "\n",
       "    .dataframe tbody tr th {\n",
       "        vertical-align: top;\n",
       "    }\n",
       "\n",
       "    .dataframe thead th {\n",
       "        text-align: right;\n",
       "    }\n",
       "</style>\n",
       "<table border=\"1\" class=\"dataframe\">\n",
       "  <thead>\n",
       "    <tr style=\"text-align: right;\">\n",
       "      <th></th>\n",
       "      <th>school</th>\n",
       "      <th>sex</th>\n",
       "      <th>age</th>\n",
       "      <th>address</th>\n",
       "      <th>famsize</th>\n",
       "      <th>Pstatus</th>\n",
       "      <th>Medu</th>\n",
       "      <th>Fedu</th>\n",
       "      <th>Mjob</th>\n",
       "      <th>Fjob</th>\n",
       "      <th>...</th>\n",
       "      <th>studytime, granular</th>\n",
       "      <th>higher</th>\n",
       "      <th>internet</th>\n",
       "      <th>romantic</th>\n",
       "      <th>famrel</th>\n",
       "      <th>freetime</th>\n",
       "      <th>goout</th>\n",
       "      <th>health</th>\n",
       "      <th>absences</th>\n",
       "      <th>score</th>\n",
       "    </tr>\n",
       "  </thead>\n",
       "  <tbody>\n",
       "    <tr>\n",
       "      <th>0</th>\n",
       "      <td>GP</td>\n",
       "      <td>F</td>\n",
       "      <td>18</td>\n",
       "      <td>U</td>\n",
       "      <td>NaN</td>\n",
       "      <td>A</td>\n",
       "      <td>4.0</td>\n",
       "      <td>4.0</td>\n",
       "      <td>at_home</td>\n",
       "      <td>teacher</td>\n",
       "      <td>...</td>\n",
       "      <td>-6.0</td>\n",
       "      <td>yes</td>\n",
       "      <td>NaN</td>\n",
       "      <td>no</td>\n",
       "      <td>4.0</td>\n",
       "      <td>3.0</td>\n",
       "      <td>4.0</td>\n",
       "      <td>3.0</td>\n",
       "      <td>6.0</td>\n",
       "      <td>30.0</td>\n",
       "    </tr>\n",
       "    <tr>\n",
       "      <th>1</th>\n",
       "      <td>GP</td>\n",
       "      <td>F</td>\n",
       "      <td>17</td>\n",
       "      <td>U</td>\n",
       "      <td>GT3</td>\n",
       "      <td>NaN</td>\n",
       "      <td>1.0</td>\n",
       "      <td>1.0</td>\n",
       "      <td>at_home</td>\n",
       "      <td>other</td>\n",
       "      <td>...</td>\n",
       "      <td>-6.0</td>\n",
       "      <td>yes</td>\n",
       "      <td>yes</td>\n",
       "      <td>no</td>\n",
       "      <td>5.0</td>\n",
       "      <td>3.0</td>\n",
       "      <td>3.0</td>\n",
       "      <td>3.0</td>\n",
       "      <td>4.0</td>\n",
       "      <td>30.0</td>\n",
       "    </tr>\n",
       "    <tr>\n",
       "      <th>2</th>\n",
       "      <td>GP</td>\n",
       "      <td>F</td>\n",
       "      <td>15</td>\n",
       "      <td>U</td>\n",
       "      <td>LE3</td>\n",
       "      <td>T</td>\n",
       "      <td>1.0</td>\n",
       "      <td>1.0</td>\n",
       "      <td>at_home</td>\n",
       "      <td>other</td>\n",
       "      <td>...</td>\n",
       "      <td>-6.0</td>\n",
       "      <td>yes</td>\n",
       "      <td>yes</td>\n",
       "      <td>NaN</td>\n",
       "      <td>4.0</td>\n",
       "      <td>3.0</td>\n",
       "      <td>2.0</td>\n",
       "      <td>3.0</td>\n",
       "      <td>10.0</td>\n",
       "      <td>50.0</td>\n",
       "    </tr>\n",
       "    <tr>\n",
       "      <th>3</th>\n",
       "      <td>GP</td>\n",
       "      <td>F</td>\n",
       "      <td>15</td>\n",
       "      <td>U</td>\n",
       "      <td>GT3</td>\n",
       "      <td>T</td>\n",
       "      <td>4.0</td>\n",
       "      <td>2.0</td>\n",
       "      <td>health</td>\n",
       "      <td>NaN</td>\n",
       "      <td>...</td>\n",
       "      <td>-9.0</td>\n",
       "      <td>yes</td>\n",
       "      <td>yes</td>\n",
       "      <td>yes</td>\n",
       "      <td>3.0</td>\n",
       "      <td>2.0</td>\n",
       "      <td>2.0</td>\n",
       "      <td>5.0</td>\n",
       "      <td>2.0</td>\n",
       "      <td>75.0</td>\n",
       "    </tr>\n",
       "    <tr>\n",
       "      <th>4</th>\n",
       "      <td>GP</td>\n",
       "      <td>F</td>\n",
       "      <td>16</td>\n",
       "      <td>U</td>\n",
       "      <td>GT3</td>\n",
       "      <td>T</td>\n",
       "      <td>3.0</td>\n",
       "      <td>3.0</td>\n",
       "      <td>other</td>\n",
       "      <td>other</td>\n",
       "      <td>...</td>\n",
       "      <td>-6.0</td>\n",
       "      <td>yes</td>\n",
       "      <td>no</td>\n",
       "      <td>no</td>\n",
       "      <td>4.0</td>\n",
       "      <td>3.0</td>\n",
       "      <td>2.0</td>\n",
       "      <td>5.0</td>\n",
       "      <td>4.0</td>\n",
       "      <td>50.0</td>\n",
       "    </tr>\n",
       "  </tbody>\n",
       "</table>\n",
       "<p>5 rows × 30 columns</p>\n",
       "</div>"
      ],
      "text/plain": [
       "  school sex  age address famsize Pstatus  Medu  Fedu     Mjob     Fjob  ...  \\\n",
       "0     GP   F   18       U     NaN       A   4.0   4.0  at_home  teacher  ...   \n",
       "1     GP   F   17       U     GT3     NaN   1.0   1.0  at_home    other  ...   \n",
       "2     GP   F   15       U     LE3       T   1.0   1.0  at_home    other  ...   \n",
       "3     GP   F   15       U     GT3       T   4.0   2.0   health      NaN  ...   \n",
       "4     GP   F   16       U     GT3       T   3.0   3.0    other    other  ...   \n",
       "\n",
       "  studytime, granular higher  internet  romantic  famrel freetime goout  \\\n",
       "0                -6.0    yes       NaN        no     4.0      3.0   4.0   \n",
       "1                -6.0    yes       yes        no     5.0      3.0   3.0   \n",
       "2                -6.0    yes       yes       NaN     4.0      3.0   2.0   \n",
       "3                -9.0    yes       yes       yes     3.0      2.0   2.0   \n",
       "4                -6.0    yes        no        no     4.0      3.0   2.0   \n",
       "\n",
       "  health absences score  \n",
       "0    3.0      6.0  30.0  \n",
       "1    3.0      4.0  30.0  \n",
       "2    3.0     10.0  50.0  \n",
       "3    5.0      2.0  75.0  \n",
       "4    5.0      4.0  50.0  \n",
       "\n",
       "[5 rows x 30 columns]"
      ]
     },
     "execution_count": 78,
     "metadata": {},
     "output_type": "execute_result"
    }
   ],
   "source": [
    "df.head()"
   ]
  },
  {
   "cell_type": "code",
   "execution_count": 79,
   "id": "be534947",
   "metadata": {},
   "outputs": [],
   "source": [
    "df.fillna(-1, inplace = True)"
   ]
  },
  {
   "cell_type": "code",
   "execution_count": 80,
   "id": "b5ef689b",
   "metadata": {},
   "outputs": [],
   "source": [
    "def process(df, col):\n",
    "    unique_data = df[col].unique()\n",
    "    mapping = {unique_data[i]: i for i in range (len(unique_data))}\n",
    "    df[col] = df[col].map(mapping) \n",
    "    return mapping"
   ]
  },
  {
   "cell_type": "code",
   "execution_count": 81,
   "id": "021e31ee",
   "metadata": {},
   "outputs": [
    {
     "data": {
      "text/plain": [
       "{'F': 0, 'M': 1}"
      ]
     },
     "execution_count": 81,
     "metadata": {},
     "output_type": "execute_result"
    }
   ],
   "source": [
    "process(df, 'sex')"
   ]
  },
  {
   "cell_type": "code",
   "execution_count": 82,
   "id": "bdd3204d",
   "metadata": {},
   "outputs": [
    {
     "data": {
      "text/plain": [
       "{'U': 0, -1: 1, 'R': 2}"
      ]
     },
     "execution_count": 82,
     "metadata": {},
     "output_type": "execute_result"
    }
   ],
   "source": [
    "process(df, 'address')"
   ]
  },
  {
   "cell_type": "code",
   "execution_count": 83,
   "id": "24581a63",
   "metadata": {},
   "outputs": [],
   "source": [
    "df.loc[df['address'] == 1,'address'] = -1"
   ]
  },
  {
   "cell_type": "code",
   "execution_count": 84,
   "id": "72efbec0",
   "metadata": {},
   "outputs": [
    {
     "data": {
      "text/plain": [
       "{-1: 0, 'GT3': 1, 'LE3': 2}"
      ]
     },
     "execution_count": 84,
     "metadata": {},
     "output_type": "execute_result"
    }
   ],
   "source": [
    "process(df, 'famsize')"
   ]
  },
  {
   "cell_type": "code",
   "execution_count": 85,
   "id": "804f86cf",
   "metadata": {},
   "outputs": [],
   "source": [
    "df.loc[df['famsize'] == 0,'famsize'] = -1"
   ]
  },
  {
   "cell_type": "code",
   "execution_count": 86,
   "id": "72c73f95",
   "metadata": {},
   "outputs": [
    {
     "data": {
      "text/plain": [
       "{'A': 0, -1: 1, 'T': 2}"
      ]
     },
     "execution_count": 86,
     "metadata": {},
     "output_type": "execute_result"
    }
   ],
   "source": [
    "process(df, 'Pstatus')"
   ]
  },
  {
   "cell_type": "code",
   "execution_count": 87,
   "id": "dc6c4f33",
   "metadata": {},
   "outputs": [],
   "source": [
    "df.loc[df['Pstatus'] == 1,'Pstatus'] = -1"
   ]
  },
  {
   "cell_type": "code",
   "execution_count": 88,
   "id": "b2d284d0",
   "metadata": {},
   "outputs": [
    {
     "data": {
      "text/plain": [
       "{4.0: 0, 1.0: 1, 3.0: 2, 2.0: 3, -1.0: 4, 0.0: 5}"
      ]
     },
     "execution_count": 88,
     "metadata": {},
     "output_type": "execute_result"
    }
   ],
   "source": [
    "process(df, 'Medu')"
   ]
  },
  {
   "cell_type": "code",
   "execution_count": 89,
   "id": "5fbb1da0",
   "metadata": {},
   "outputs": [],
   "source": [
    "df.loc[df['Medu'] == 4, 'Medu'] = -1"
   ]
  },
  {
   "cell_type": "code",
   "execution_count": 90,
   "id": "62609a81",
   "metadata": {},
   "outputs": [
    {
     "data": {
      "text/plain": [
       "{4.0: 0, 1.0: 1, 2.0: 2, 3.0: 3, 40.0: 4, -1.0: 5, 0.0: 6}"
      ]
     },
     "execution_count": 90,
     "metadata": {},
     "output_type": "execute_result"
    }
   ],
   "source": [
    "process(df, 'Fedu')"
   ]
  },
  {
   "cell_type": "code",
   "execution_count": 91,
   "id": "3f12b31c",
   "metadata": {},
   "outputs": [],
   "source": [
    "df.loc[df['Fedu'] == 5, 'Fedu'] = -1"
   ]
  },
  {
   "cell_type": "code",
   "execution_count": 92,
   "id": "02aa1ef1",
   "metadata": {},
   "outputs": [
    {
     "data": {
      "text/plain": [
       "{'at_home': 0, 'health': 1, 'other': 2, 'services': 3, 'teacher': 4, -1: 5}"
      ]
     },
     "execution_count": 92,
     "metadata": {},
     "output_type": "execute_result"
    }
   ],
   "source": [
    "process(df, 'Mjob')"
   ]
  },
  {
   "cell_type": "code",
   "execution_count": 93,
   "id": "a86ead18",
   "metadata": {},
   "outputs": [],
   "source": [
    "df.loc[df['Mjob'] == 5, 'Mjob'] = -1"
   ]
  },
  {
   "cell_type": "code",
   "execution_count": 94,
   "id": "f4115816",
   "metadata": {},
   "outputs": [
    {
     "data": {
      "text/plain": [
       "{'teacher': 0, 'other': 1, -1: 2, 'health': 3, 'services': 4, 'at_home': 5}"
      ]
     },
     "execution_count": 94,
     "metadata": {},
     "output_type": "execute_result"
    }
   ],
   "source": [
    "process(df, 'Fjob')"
   ]
  },
  {
   "cell_type": "code",
   "execution_count": 95,
   "id": "1348b002",
   "metadata": {},
   "outputs": [],
   "source": [
    "df.loc[df['Fjob'] == 2, 'Fjob'] = -1"
   ]
  },
  {
   "cell_type": "code",
   "execution_count": 96,
   "id": "7113e66b",
   "metadata": {},
   "outputs": [
    {
     "data": {
      "text/plain": [
       "{'course': 0, 'other': 1, 'home': 2, 'reputation': 3, -1: 4}"
      ]
     },
     "execution_count": 96,
     "metadata": {},
     "output_type": "execute_result"
    }
   ],
   "source": [
    "process(df, 'reason')"
   ]
  },
  {
   "cell_type": "code",
   "execution_count": 97,
   "id": "a9ec75ec",
   "metadata": {},
   "outputs": [],
   "source": [
    "df.loc[df['reason'] == 4, 'reason'] = -1"
   ]
  },
  {
   "cell_type": "code",
   "execution_count": 98,
   "id": "dbd65ab5",
   "metadata": {},
   "outputs": [
    {
     "data": {
      "text/plain": [
       "{'mother': 0, 'father': 1, 'other': 2, -1: 3}"
      ]
     },
     "execution_count": 98,
     "metadata": {},
     "output_type": "execute_result"
    }
   ],
   "source": [
    "process(df, 'guardian')"
   ]
  },
  {
   "cell_type": "code",
   "execution_count": 99,
   "id": "518c443d",
   "metadata": {},
   "outputs": [],
   "source": [
    "df.loc[df['guardian'] == 3, 'guardian'] = -1"
   ]
  },
  {
   "cell_type": "code",
   "execution_count": 100,
   "id": "241fdf2f",
   "metadata": {},
   "outputs": [
    {
     "data": {
      "text/plain": [
       "{'yes': 0, 'no': 1, -1: 2}"
      ]
     },
     "execution_count": 100,
     "metadata": {},
     "output_type": "execute_result"
    }
   ],
   "source": [
    "process(df, 'schoolsup')"
   ]
  },
  {
   "cell_type": "code",
   "execution_count": 101,
   "id": "8b1f8eba",
   "metadata": {},
   "outputs": [],
   "source": [
    "df.loc[df['schoolsup'] == 2, 'schoolsup'] = -1"
   ]
  },
  {
   "cell_type": "code",
   "execution_count": 102,
   "id": "e4da3164",
   "metadata": {},
   "outputs": [
    {
     "data": {
      "text/plain": [
       "{'no': 0, 'yes': 1, -1: 2}"
      ]
     },
     "execution_count": 102,
     "metadata": {},
     "output_type": "execute_result"
    }
   ],
   "source": [
    "process(df, 'famsup')"
   ]
  },
  {
   "cell_type": "code",
   "execution_count": 103,
   "id": "dadb71f9",
   "metadata": {},
   "outputs": [],
   "source": [
    "df.loc[df['famsup'] == 2, 'famsup'] = -1"
   ]
  },
  {
   "cell_type": "code",
   "execution_count": 104,
   "id": "7130607f",
   "metadata": {},
   "outputs": [
    {
     "data": {
      "text/plain": [
       "{'no': 0, -1: 1, 'yes': 2}"
      ]
     },
     "execution_count": 104,
     "metadata": {},
     "output_type": "execute_result"
    }
   ],
   "source": [
    "process(df, 'paid')"
   ]
  },
  {
   "cell_type": "code",
   "execution_count": 105,
   "id": "e96de7c6",
   "metadata": {},
   "outputs": [],
   "source": [
    "df.loc[df['paid'] == 1, 'paid'] = -1"
   ]
  },
  {
   "cell_type": "code",
   "execution_count": 106,
   "id": "a351d7a6",
   "metadata": {},
   "outputs": [
    {
     "data": {
      "text/plain": [
       "{'no': 0, 'yes': 1, -1: 2}"
      ]
     },
     "execution_count": 106,
     "metadata": {},
     "output_type": "execute_result"
    }
   ],
   "source": [
    "process(df, 'activities')"
   ]
  },
  {
   "cell_type": "code",
   "execution_count": 107,
   "id": "d2f75f1c",
   "metadata": {},
   "outputs": [],
   "source": [
    "df.loc[df['activities'] == 2, 'activities'] = -1"
   ]
  },
  {
   "cell_type": "code",
   "execution_count": 108,
   "id": "731c6c1b",
   "metadata": {},
   "outputs": [
    {
     "data": {
      "text/plain": [
       "{'yes': 0, 'no': 1, -1: 2}"
      ]
     },
     "execution_count": 108,
     "metadata": {},
     "output_type": "execute_result"
    }
   ],
   "source": [
    "process(df, 'nursery')"
   ]
  },
  {
   "cell_type": "code",
   "execution_count": 109,
   "id": "c40484b1",
   "metadata": {},
   "outputs": [],
   "source": [
    "df.loc[df['nursery'] == 2, 'nursery'] = -1"
   ]
  },
  {
   "cell_type": "code",
   "execution_count": 110,
   "id": "84123a8d",
   "metadata": {},
   "outputs": [
    {
     "data": {
      "text/plain": [
       "{'yes': 0, -1: 1, 'no': 2}"
      ]
     },
     "execution_count": 110,
     "metadata": {},
     "output_type": "execute_result"
    }
   ],
   "source": [
    "process(df, 'higher')"
   ]
  },
  {
   "cell_type": "code",
   "execution_count": 111,
   "id": "62a04e7f",
   "metadata": {},
   "outputs": [],
   "source": [
    "df.loc[df['higher'] == 1, 'higher'] = -1"
   ]
  },
  {
   "cell_type": "code",
   "execution_count": 113,
   "id": "ac9a84c4",
   "metadata": {},
   "outputs": [
    {
     "data": {
      "text/plain": [
       "{-1: 0, 'yes': 1, 'no': 2}"
      ]
     },
     "execution_count": 113,
     "metadata": {},
     "output_type": "execute_result"
    }
   ],
   "source": [
    "process(df, 'internet')"
   ]
  },
  {
   "cell_type": "code",
   "execution_count": 114,
   "id": "93ec202f",
   "metadata": {},
   "outputs": [],
   "source": [
    "df.loc[df['internet'] == 0, 'internet'] = -1"
   ]
  },
  {
   "cell_type": "code",
   "execution_count": 115,
   "id": "26c4f13e",
   "metadata": {},
   "outputs": [
    {
     "data": {
      "text/plain": [
       "{'no': 0, -1: 1, 'yes': 2}"
      ]
     },
     "execution_count": 115,
     "metadata": {},
     "output_type": "execute_result"
    }
   ],
   "source": [
    "process(df, 'romantic')"
   ]
  },
  {
   "cell_type": "code",
   "execution_count": 117,
   "id": "fe368048",
   "metadata": {},
   "outputs": [],
   "source": [
    "df.loc[df['romantic'] == 1, 'romantic'] = -1"
   ]
  },
  {
   "cell_type": "code",
   "execution_count": null,
   "id": "d9b8b007",
   "metadata": {},
   "outputs": [],
   "source": []
  },
  {
   "cell_type": "code",
   "execution_count": 119,
   "id": "fdd901f9",
   "metadata": {},
   "outputs": [
    {
     "data": {
      "text/plain": [
       "<AxesSubplot:>"
      ]
     },
     "execution_count": 119,
     "metadata": {},
     "output_type": "execute_result"
    },
    {
     "data": {
      "image/png": "[encoded data removed]",
      "text/plain": [
       "<Figure size 432x288 with 1 Axes>"
      ]
     },
     "metadata": {
      "needs_background": "light"
     },
     "output_type": "display_data"
    }
   ],
   "source": [
    "import matplotlib.pyplot as plt\n",
    "df['absences'].hist()"
   ]
  },
  {
   "cell_type": "code",
   "execution_count": 123,
   "id": "87e9cb54",
   "metadata": {},
   "outputs": [
    {
     "data": {
      "text/plain": [
       "8.0"
      ]
     },
     "execution_count": 123,
     "metadata": {},
     "output_type": "execute_result"
    }
   ],
   "source": [
    "import numpy as np\n",
    "iqr = df['absences'].quantile(0.75) - df['absences'].quantile(0.25)\n",
    "iqr"
   ]
  },
  {
   "cell_type": "code",
   "execution_count": 125,
   "id": "3dd8a41d",
   "metadata": {},
   "outputs": [],
   "source": [
    "perc25 = df.absences.quantile(0.25)\n",
    "perc75 = df.absences.quantile(0.75)"
   ]
  },
  {
   "cell_type": "code",
   "execution_count": 129,
   "id": "0acf3650",
   "metadata": {},
   "outputs": [
    {
     "data": {
      "text/plain": [
       "<matplotlib.legend.Legend at 0x7f8c08db05e0>"
      ]
     },
     "execution_count": 129,
     "metadata": {},
     "output_type": "execute_result"
    },
    {
     "data": {
      "image/png": "[encoded data removed]",
      "text/plain": [
       "<Figure size 432x288 with 1 Axes>"
      ]
     },
     "metadata": {
      "needs_background": "light"
     },
     "output_type": "display_data"
    }
   ],
   "source": [
    "df.absences.loc[df.absences.between(\n",
    "perc25 - 1.5*iqr,\n",
    "perc75 + 1.5*iqr)].hist(bins = 160, range = (0, 100), label = 'Нормальные данные')\n",
    " \n",
    "df.absences.loc[df.absences <= 100].hist(\n",
    "alpha = 0.5, bins = 160, range = (0, 100), label = 'Выбросы')\n",
    " \n",
    "plt.legend()"
   ]
  },
  {
   "cell_type": "code",
   "execution_count": 130,
   "id": "9b85f426",
   "metadata": {},
   "outputs": [
    {
     "data": {
      "text/plain": [
       "'По графику видно, что студенты-выбросы - те, кто проспустил больше 20 занятий'"
      ]
     },
     "execution_count": 130,
     "metadata": {},
     "output_type": "execute_result"
    }
   ],
   "source": [
    "'По графику видно, что студенты-выбросы - те, кто проспустил больше 20 занятий'"
   ]
  },
  {
   "cell_type": "code",
   "execution_count": 132,
   "id": "f58d4b7a",
   "metadata": {},
   "outputs": [],
   "source": [
    "df = df.loc[df['absences'] < 20]"
   ]
  },
  {
   "cell_type": "code",
   "execution_count": 133,
   "id": "4e27e957",
   "metadata": {
    "scrolled": true
   },
   "outputs": [
    {
     "data": {
      "text/html": [
       "<div>\n",
       "<style scoped>\n",
       "    .dataframe tbody tr th:only-of-type {\n",
       "        vertical-align: middle;\n",
       "    }\n",
       "\n",
       "    .dataframe tbody tr th {\n",
       "        vertical-align: top;\n",
       "    }\n",
       "\n",
       "    .dataframe thead th {\n",
       "        text-align: right;\n",
       "    }\n",
       "</style>\n",
       "<table border=\"1\" class=\"dataframe\">\n",
       "  <thead>\n",
       "    <tr style=\"text-align: right;\">\n",
       "      <th></th>\n",
       "      <th>school</th>\n",
       "      <th>sex</th>\n",
       "      <th>age</th>\n",
       "      <th>address</th>\n",
       "      <th>famsize</th>\n",
       "      <th>Pstatus</th>\n",
       "      <th>Medu</th>\n",
       "      <th>Fedu</th>\n",
       "      <th>Mjob</th>\n",
       "      <th>Fjob</th>\n",
       "      <th>...</th>\n",
       "      <th>studytime, granular</th>\n",
       "      <th>higher</th>\n",
       "      <th>internet</th>\n",
       "      <th>romantic</th>\n",
       "      <th>famrel</th>\n",
       "      <th>freetime</th>\n",
       "      <th>goout</th>\n",
       "      <th>health</th>\n",
       "      <th>absences</th>\n",
       "      <th>score</th>\n",
       "    </tr>\n",
       "  </thead>\n",
       "  <tbody>\n",
       "    <tr>\n",
       "      <th>0</th>\n",
       "      <td>GP</td>\n",
       "      <td>0</td>\n",
       "      <td>18</td>\n",
       "      <td>0</td>\n",
       "      <td>-1</td>\n",
       "      <td>0</td>\n",
       "      <td>0</td>\n",
       "      <td>0</td>\n",
       "      <td>0</td>\n",
       "      <td>0</td>\n",
       "      <td>...</td>\n",
       "      <td>-6.0</td>\n",
       "      <td>0</td>\n",
       "      <td>-1</td>\n",
       "      <td>0</td>\n",
       "      <td>4.0</td>\n",
       "      <td>3.0</td>\n",
       "      <td>4.0</td>\n",
       "      <td>3.0</td>\n",
       "      <td>6.0</td>\n",
       "      <td>30.0</td>\n",
       "    </tr>\n",
       "    <tr>\n",
       "      <th>1</th>\n",
       "      <td>GP</td>\n",
       "      <td>0</td>\n",
       "      <td>17</td>\n",
       "      <td>0</td>\n",
       "      <td>1</td>\n",
       "      <td>-1</td>\n",
       "      <td>1</td>\n",
       "      <td>1</td>\n",
       "      <td>0</td>\n",
       "      <td>1</td>\n",
       "      <td>...</td>\n",
       "      <td>-6.0</td>\n",
       "      <td>0</td>\n",
       "      <td>1</td>\n",
       "      <td>0</td>\n",
       "      <td>5.0</td>\n",
       "      <td>3.0</td>\n",
       "      <td>3.0</td>\n",
       "      <td>3.0</td>\n",
       "      <td>4.0</td>\n",
       "      <td>30.0</td>\n",
       "    </tr>\n",
       "    <tr>\n",
       "      <th>2</th>\n",
       "      <td>GP</td>\n",
       "      <td>0</td>\n",
       "      <td>15</td>\n",
       "      <td>0</td>\n",
       "      <td>2</td>\n",
       "      <td>2</td>\n",
       "      <td>1</td>\n",
       "      <td>1</td>\n",
       "      <td>0</td>\n",
       "      <td>1</td>\n",
       "      <td>...</td>\n",
       "      <td>-6.0</td>\n",
       "      <td>0</td>\n",
       "      <td>1</td>\n",
       "      <td>-1</td>\n",
       "      <td>4.0</td>\n",
       "      <td>3.0</td>\n",
       "      <td>2.0</td>\n",
       "      <td>3.0</td>\n",
       "      <td>10.0</td>\n",
       "      <td>50.0</td>\n",
       "    </tr>\n",
       "    <tr>\n",
       "      <th>3</th>\n",
       "      <td>GP</td>\n",
       "      <td>0</td>\n",
       "      <td>15</td>\n",
       "      <td>0</td>\n",
       "      <td>1</td>\n",
       "      <td>2</td>\n",
       "      <td>0</td>\n",
       "      <td>2</td>\n",
       "      <td>1</td>\n",
       "      <td>-1</td>\n",
       "      <td>...</td>\n",
       "      <td>-9.0</td>\n",
       "      <td>0</td>\n",
       "      <td>1</td>\n",
       "      <td>2</td>\n",
       "      <td>3.0</td>\n",
       "      <td>2.0</td>\n",
       "      <td>2.0</td>\n",
       "      <td>5.0</td>\n",
       "      <td>2.0</td>\n",
       "      <td>75.0</td>\n",
       "    </tr>\n",
       "    <tr>\n",
       "      <th>4</th>\n",
       "      <td>GP</td>\n",
       "      <td>0</td>\n",
       "      <td>16</td>\n",
       "      <td>0</td>\n",
       "      <td>1</td>\n",
       "      <td>2</td>\n",
       "      <td>2</td>\n",
       "      <td>3</td>\n",
       "      <td>2</td>\n",
       "      <td>1</td>\n",
       "      <td>...</td>\n",
       "      <td>-6.0</td>\n",
       "      <td>0</td>\n",
       "      <td>2</td>\n",
       "      <td>0</td>\n",
       "      <td>4.0</td>\n",
       "      <td>3.0</td>\n",
       "      <td>2.0</td>\n",
       "      <td>5.0</td>\n",
       "      <td>4.0</td>\n",
       "      <td>50.0</td>\n",
       "    </tr>\n",
       "  </tbody>\n",
       "</table>\n",
       "<p>5 rows × 30 columns</p>\n",
       "</div>"
      ],
      "text/plain": [
       "  school  sex  age  address  famsize  Pstatus  Medu  Fedu  Mjob  Fjob  ...  \\\n",
       "0     GP    0   18        0       -1        0     0     0     0     0  ...   \n",
       "1     GP    0   17        0        1       -1     1     1     0     1  ...   \n",
       "2     GP    0   15        0        2        2     1     1     0     1  ...   \n",
       "3     GP    0   15        0        1        2     0     2     1    -1  ...   \n",
       "4     GP    0   16        0        1        2     2     3     2     1  ...   \n",
       "\n",
       "   studytime, granular  higher  internet  romantic  famrel  freetime  goout  \\\n",
       "0                 -6.0       0        -1         0     4.0       3.0    4.0   \n",
       "1                 -6.0       0         1         0     5.0       3.0    3.0   \n",
       "2                 -6.0       0         1        -1     4.0       3.0    2.0   \n",
       "3                 -9.0       0         1         2     3.0       2.0    2.0   \n",
       "4                 -6.0       0         2         0     4.0       3.0    2.0   \n",
       "\n",
       "   health  absences  score  \n",
       "0     3.0       6.0   30.0  \n",
       "1     3.0       4.0   30.0  \n",
       "2     3.0      10.0   50.0  \n",
       "3     5.0       2.0   75.0  \n",
       "4     5.0       4.0   50.0  \n",
       "\n",
       "[5 rows x 30 columns]"
      ]
     },
     "execution_count": 133,
     "metadata": {},
     "output_type": "execute_result"
    }
   ],
   "source": [
    "df.head()"
   ]
  },
  {
   "cell_type": "markdown",
   "id": "06d52b63",
   "metadata": {},
   "source": [
    " Я выбрал самые интересные дисциплины для анализа, так как самих дисциплин слишком много и рассматривать все было бы нерационально"
   ]
  },
  {
   "cell_type": "code",
   "execution_count": 140,
   "id": "5c61111a",
   "metadata": {},
   "outputs": [
    {
     "data": {
      "text/plain": [
       "<AxesSubplot:>"
      ]
     },
     "execution_count": 140,
     "metadata": {},
     "output_type": "execute_result"
    },
    {
     "data": {
      "image/png": "[encoded data removed]",
      "text/plain": [
       "<Figure size 432x288 with 1 Axes>"
      ]
     },
     "metadata": {
      "needs_background": "light"
     },
     "output_type": "display_data"
    }
   ],
   "source": [
    "df['sex'].hist()"
   ]
  },
  {
   "cell_type": "markdown",
   "id": "d793ea06",
   "metadata": {},
   "source": [
    "Мужчин с женщинами примерно одинаковое количество - около 200"
   ]
  },
  {
   "cell_type": "code",
   "execution_count": 141,
   "id": "a85aa1aa",
   "metadata": {},
   "outputs": [
    {
     "data": {
      "text/plain": [
       "<AxesSubplot:>"
      ]
     },
     "execution_count": 141,
     "metadata": {},
     "output_type": "execute_result"
    },
    {
     "data": {
      "image/png": "[encoded data removed]",
      "text/plain": [
       "<Figure size 432x288 with 1 Axes>"
      ]
     },
     "metadata": {
      "needs_background": "light"
     },
     "output_type": "display_data"
    }
   ],
   "source": [
    "df['activities'].hist()"
   ]
  },
  {
   "cell_type": "markdown",
   "id": "4fd90e7a",
   "metadata": {},
   "source": [
    "В основном студенты занимаются внеучебной деятельностью, около 10 человек не дали ответа"
   ]
  },
  {
   "cell_type": "code",
   "execution_count": 142,
   "id": "20dc3382",
   "metadata": {},
   "outputs": [
    {
     "data": {
      "text/plain": [
       "<AxesSubplot:>"
      ]
     },
     "execution_count": 142,
     "metadata": {},
     "output_type": "execute_result"
    },
    {
     "data": {
      "image/png": "[encoded data removed]",
      "text/plain": [
       "<Figure size 432x288 with 1 Axes>"
      ]
     },
     "metadata": {
      "needs_background": "light"
     },
     "output_type": "display_data"
    }
   ],
   "source": [
    "df['famrel'].hist()"
   ]
  },
  {
   "cell_type": "markdown",
   "id": "e7ca1285",
   "metadata": {},
   "source": [
    "Около 25 человек не дали ответа, в основном у студентов либо удовлетворительные отношения в семье, либо отличные. Имеется лишь несколько студентов с плохими отношениями"
   ]
  },
  {
   "cell_type": "code",
   "execution_count": 143,
   "id": "f7b27735",
   "metadata": {},
   "outputs": [
    {
     "data": {
      "text/plain": [
       "<AxesSubplot:>"
      ]
     },
     "execution_count": 143,
     "metadata": {},
     "output_type": "execute_result"
    },
    {
     "data": {
      "image/png": "[encoded data removed]",
      "text/plain": [
       "<Figure size 432x288 with 1 Axes>"
      ]
     },
     "metadata": {
      "needs_background": "light"
     },
     "output_type": "display_data"
    }
   ],
   "source": [
    "df['romantic'].hist()"
   ]
  },
  {
   "cell_type": "markdown",
   "id": "6e2dbe8f",
   "metadata": {},
   "source": [
    "Несколько студентов воздержались от ответа, но в основном в отношениях состоит примерно 30 процентов"
   ]
  },
  {
   "cell_type": "code",
   "execution_count": 144,
   "id": "a374f802",
   "metadata": {},
   "outputs": [
    {
     "data": {
      "text/plain": [
       "<AxesSubplot:>"
      ]
     },
     "execution_count": 144,
     "metadata": {},
     "output_type": "execute_result"
    },
    {
     "data": {
      "image/png": "[encoded data removed]",
      "text/plain": [
       "<Figure size 432x288 with 1 Axes>"
      ]
     },
     "metadata": {
      "needs_background": "light"
     },
     "output_type": "display_data"
    }
   ],
   "source": [
    "df['internet'].hist()"
   ]
  },
  {
   "cell_type": "markdown",
   "id": "4409e7d9",
   "metadata": {},
   "source": [
    "По статистике, несколько человек воздержались от ответа, у 80 процентов студентов имеется доступ к интернету"
   ]
  },
  {
   "cell_type": "code",
   "execution_count": 145,
   "id": "bd7b3497",
   "metadata": {},
   "outputs": [
    {
     "data": {
      "text/plain": [
       "array([[1.        , 0.11784391],\n",
       "       [0.11784391, 1.        ]])"
      ]
     },
     "execution_count": 145,
     "metadata": {},
     "output_type": "execute_result"
    }
   ],
   "source": [
    "np.corrcoef(df['age'], df['absences'])"
   ]
  },
  {
   "cell_type": "markdown",
   "id": "30d160b4",
   "metadata": {},
   "source": [
    "Так как коэффицент корреляции 11 процентов, можно сделать вывод, что количество прогулов не зависит от возраста"
   ]
  },
  {
   "cell_type": "code",
   "execution_count": 153,
   "id": "5ffc3143",
   "metadata": {},
   "outputs": [
    {
     "data": {
      "text/plain": [
       "array([[1.        , 0.06700556],\n",
       "       [0.06700556, 1.        ]])"
      ]
     },
     "execution_count": 153,
     "metadata": {},
     "output_type": "execute_result"
    }
   ],
   "source": [
    "np.corrcoef(df['score'], df['absences'])"
   ]
  },
  {
   "cell_type": "markdown",
   "id": "41b06df4",
   "metadata": {},
   "source": [
    "Также, можно заметить, что количество прогулов не влияет на оценки"
   ]
  },
  {
   "cell_type": "code",
   "execution_count": 149,
   "id": "9f9c2a4a",
   "metadata": {},
   "outputs": [
    {
     "data": {
      "text/plain": [
       "array([[1.        , 0.13510552],\n",
       "       [0.13510552, 1.        ]])"
      ]
     },
     "execution_count": 149,
     "metadata": {},
     "output_type": "execute_result"
    }
   ],
   "source": [
    "np.corrcoef(df['age'], df['score'])"
   ]
  },
  {
   "cell_type": "markdown",
   "id": "62bfaaf3",
   "metadata": {},
   "source": [
    "Как ни странно, оценки у данной выборки студентов не зависят и от возраста"
   ]
  },
  {
   "cell_type": "code",
   "execution_count": 154,
   "id": "2b8210f2",
   "metadata": {},
   "outputs": [
    {
     "data": {
      "image/png": "[encoded data removed]",
      "text/plain": [
       "<Figure size 1368x1080 with 2 Axes>"
      ]
     },
     "metadata": {
      "needs_background": "light"
     },
     "output_type": "display_data"
    }
   ],
   "source": [
    "f = plt.figure(figsize=(19, 15))\n",
    "plt.matshow(df.corr(), fignum=f.number)\n",
    "plt.xticks(range(df.select_dtypes(['number']).shape[1]), df.select_dtypes(['number']).columns, fontsize=14, rotation=45)\n",
    "plt.yticks(range(df.select_dtypes(['number']).shape[1]), df.select_dtypes(['number']).columns, fontsize=14)\n",
    "cb = plt.colorbar()\n",
    "cb.ax.tick_params(labelsize=14)\n",
    "plt.title('Correlation Matrix', fontsize=16);\n",
    "plt.show()"
   ]
  },
  {
   "cell_type": "markdown",
   "id": "136b253f",
   "metadata": {},
   "source": [
    "Исходя из данного графика, можно сделать вывод, что studytime, granular - studytime с отрицательным знаком. Важно отметить, что неудачи имеют негативную корреляцию с оценками. Имеется странное наблюдение, что время, потраченное на занятия, практически не зависит от свободного времени. В конце концов, не имеют корреляции и желание студентов получить высшее образование и их успеваемость... Касательно последнего пункта итогового задания(не исключен неправильный анализ с моей стороны), в датасете практически не имеется дисциплин, влияющих на успеваемость."
   ]
  }
 ],
 "metadata": {
  "kernelspec": {
   "display_name": "Python 3",
   "language": "python",
   "name": "python3"
  },
  "language_info": {
   "codemirror_mode": {
    "name": "ipython",
    "version": 3
   },
   "file_extension": ".py",
   "mimetype": "text/x-python",
   "name": "python",
   "nbconvert_exporter": "python",
   "pygments_lexer": "ipython3",
   "version": "3.8.8"
  }
 },
 "nbformat": 4,
 "nbformat_minor": 5
}
